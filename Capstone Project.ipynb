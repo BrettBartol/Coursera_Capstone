{
 "cells": [
  {
   "cell_type": "markdown",
   "metadata": {
    "collapsed": true
   },
   "source": [
    "# IBM Data Science Capstone Project\n",
    "## Opening a Gas Station in a Growing City to Get the Most Traffic"
   ]
  },
  {
   "cell_type": "markdown",
   "metadata": {},
   "source": [
    "Just 25 minutes north of Dallas is a growing suburb called Frisco. It is one of the fastest growing cities in the country and is predicted to grow even larger in the coming years. It is now home to the Dallas Cowboys training facility and the national headquarters of both Frito-Lay and Toyota with more moving in the future. This seems like a perfect time to move business there while the land is still relatively cheap.\n",
    "\n",
    "I would like to open up a gas station in Frisco in an area that is lacking this commodity. I will be using geolocation data from the FourSquare api and using that data to find location clusters of all the gas stations in the area. I will be taking the latitude and longitude of each gas station in the area. I am not sure what ML algorithm that I will be using yet but I will be trying out KMeans, Decision Tree, and Density Based clustering. Then I will pick up to three of the best future locations for these properties, and hey maybe I will take out a bigger loan and open two of them."
   ]
  },
  {
   "cell_type": "code",
   "execution_count": null,
   "metadata": {},
   "outputs": [],
   "source": []
  }
 ],
 "metadata": {
  "kernelspec": {
   "display_name": "Python 3.6",
   "language": "python",
   "name": "python3"
  },
  "language_info": {
   "codemirror_mode": {
    "name": "ipython",
    "version": 3
   },
   "file_extension": ".py",
   "mimetype": "text/x-python",
   "name": "python",
   "nbconvert_exporter": "python",
   "pygments_lexer": "ipython3",
   "version": "3.6.9"
  }
 },
 "nbformat": 4,
 "nbformat_minor": 1
}
