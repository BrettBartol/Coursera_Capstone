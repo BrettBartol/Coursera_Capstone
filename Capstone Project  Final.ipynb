{
 "cells": [
  {
   "cell_type": "markdown",
   "metadata": {
    "collapsed": true
   },
   "source": [
    "# IBM Data Science Capstone Project\n",
    "## Opening a Gas Station in a Growing City to Get the Most Traffic"
   ]
  },
  {
   "cell_type": "markdown",
   "metadata": {},
   "source": [
    "Just 25 minutes north of Dallas is a growing suburb called Frisco. It is one of the fastest growing cities in the country and is predicted to grow even larger in the coming years. It is now home to the Dallas Cowboys training facility and the national headquarters of both Frito-Lay and Toyota with more moving in the future. This seems like a perfect time to move business there while the land is still relatively cheap.\n",
    "\n",
    "I would like to open up a gas station in Frisco in an area that is lacking this commodity. I will be using geolocation data from the FourSquare api and using that data to find location clusters of all the gas stations in the area. I will be taking the latitude and longitude of each gas station in the area. I am not sure what ML algorithm that I will be using yet but I will be trying out KMeans, Decision Tree, and Density Based clustering. Then I will pick up to three of the best future locations for these properties, and hey maybe I will take out a bigger loan and open two of them."
   ]
  },
  {
   "cell_type": "code",
   "execution_count": 78,
   "metadata": {},
   "outputs": [],
   "source": [
    "import pandas as pd\n",
    "import numpy as np\n",
    "import matplotlib.pyplot as plt\n",
    "from pandas.io.json import json_normalize"
   ]
  },
  {
   "cell_type": "code",
   "execution_count": 28,
   "metadata": {},
   "outputs": [],
   "source": [
    "url1 = 'https://en.wikipedia.org/wiki/Frisco,_Texas'\n",
    "df_pop = pd.read_html(url1)"
   ]
  },
  {
   "cell_type": "code",
   "execution_count": 29,
   "metadata": {},
   "outputs": [
    {
     "data": {
      "text/html": [
       "<div>\n",
       "<style scoped>\n",
       "    .dataframe tbody tr th:only-of-type {\n",
       "        vertical-align: middle;\n",
       "    }\n",
       "\n",
       "    .dataframe tbody tr th {\n",
       "        vertical-align: top;\n",
       "    }\n",
       "\n",
       "    .dataframe thead tr th {\n",
       "        text-align: left;\n",
       "    }\n",
       "</style>\n",
       "<table border=\"1\" class=\"dataframe\">\n",
       "  <thead>\n",
       "    <tr>\n",
       "      <th></th>\n",
       "      <th colspan=\"4\" halign=\"left\">Historical population</th>\n",
       "    </tr>\n",
       "    <tr>\n",
       "      <th></th>\n",
       "      <th>Census</th>\n",
       "      <th>Pop.</th>\n",
       "      <th>Unnamed: 2_level_1</th>\n",
       "      <th>%±</th>\n",
       "    </tr>\n",
       "  </thead>\n",
       "  <tbody>\n",
       "    <tr>\n",
       "      <th>0</th>\n",
       "      <td>1910</td>\n",
       "      <td>332</td>\n",
       "      <td>NaN</td>\n",
       "      <td>—</td>\n",
       "    </tr>\n",
       "    <tr>\n",
       "      <th>1</th>\n",
       "      <td>1920</td>\n",
       "      <td>733</td>\n",
       "      <td>NaN</td>\n",
       "      <td>120.8%</td>\n",
       "    </tr>\n",
       "    <tr>\n",
       "      <th>2</th>\n",
       "      <td>1930</td>\n",
       "      <td>618</td>\n",
       "      <td>NaN</td>\n",
       "      <td>−15.7%</td>\n",
       "    </tr>\n",
       "    <tr>\n",
       "      <th>3</th>\n",
       "      <td>1940</td>\n",
       "      <td>670</td>\n",
       "      <td>NaN</td>\n",
       "      <td>8.4%</td>\n",
       "    </tr>\n",
       "    <tr>\n",
       "      <th>4</th>\n",
       "      <td>1950</td>\n",
       "      <td>736</td>\n",
       "      <td>NaN</td>\n",
       "      <td>9.9%</td>\n",
       "    </tr>\n",
       "    <tr>\n",
       "      <th>5</th>\n",
       "      <td>1960</td>\n",
       "      <td>1184</td>\n",
       "      <td>NaN</td>\n",
       "      <td>60.9%</td>\n",
       "    </tr>\n",
       "    <tr>\n",
       "      <th>6</th>\n",
       "      <td>1970</td>\n",
       "      <td>1845</td>\n",
       "      <td>NaN</td>\n",
       "      <td>55.8%</td>\n",
       "    </tr>\n",
       "    <tr>\n",
       "      <th>7</th>\n",
       "      <td>1980</td>\n",
       "      <td>3420</td>\n",
       "      <td>NaN</td>\n",
       "      <td>85.4%</td>\n",
       "    </tr>\n",
       "    <tr>\n",
       "      <th>8</th>\n",
       "      <td>1990</td>\n",
       "      <td>6138</td>\n",
       "      <td>NaN</td>\n",
       "      <td>79.5%</td>\n",
       "    </tr>\n",
       "    <tr>\n",
       "      <th>9</th>\n",
       "      <td>2000</td>\n",
       "      <td>33714</td>\n",
       "      <td>NaN</td>\n",
       "      <td>449.3%</td>\n",
       "    </tr>\n",
       "    <tr>\n",
       "      <th>10</th>\n",
       "      <td>2010</td>\n",
       "      <td>116989</td>\n",
       "      <td>NaN</td>\n",
       "      <td>247.0%</td>\n",
       "    </tr>\n",
       "    <tr>\n",
       "      <th>11</th>\n",
       "      <td>Est. 2018</td>\n",
       "      <td>188170</td>\n",
       "      <td>[1]</td>\n",
       "      <td>60.8%</td>\n",
       "    </tr>\n",
       "  </tbody>\n",
       "</table>\n",
       "</div>"
      ],
      "text/plain": [
       "   Historical population                                   \n",
       "                  Census    Pop. Unnamed: 2_level_1      %±\n",
       "0                   1910     332                NaN       —\n",
       "1                   1920     733                NaN  120.8%\n",
       "2                   1930     618                NaN  −15.7%\n",
       "3                   1940     670                NaN    8.4%\n",
       "4                   1950     736                NaN    9.9%\n",
       "5                   1960    1184                NaN   60.9%\n",
       "6                   1970    1845                NaN   55.8%\n",
       "7                   1980    3420                NaN   85.4%\n",
       "8                   1990    6138                NaN   79.5%\n",
       "9                   2000   33714                NaN  449.3%\n",
       "10                  2010  116989                NaN  247.0%\n",
       "11             Est. 2018  188170                [1]   60.8%"
      ]
     },
     "execution_count": 29,
     "metadata": {},
     "output_type": "execute_result"
    }
   ],
   "source": [
    "df_pop = df_pop[3]\n",
    "df_pop.head(12)"
   ]
  },
  {
   "cell_type": "markdown",
   "metadata": {},
   "source": [
    "As you can see in the chart above, the population of Frisco has grown greatly especially over the last 20 years."
   ]
  },
  {
   "cell_type": "code",
   "execution_count": 30,
   "metadata": {},
   "outputs": [
    {
     "name": "stdout",
     "output_type": "stream",
     "text": [
      "Collecting geocoder\n",
      "\u001b[?25l  Downloading https://files.pythonhosted.org/packages/4f/6b/13166c909ad2f2d76b929a4227c952630ebaf0d729f6317eb09cbceccbab/geocoder-1.38.1-py2.py3-none-any.whl (98kB)\n",
      "\u001b[K     |████████████████████████████████| 102kB 14.3MB/s ta 0:00:01\n",
      "\u001b[?25hRequirement already satisfied: six in /opt/conda/envs/Python36/lib/python3.6/site-packages (from geocoder) (1.12.0)\n",
      "Requirement already satisfied: requests in /opt/conda/envs/Python36/lib/python3.6/site-packages (from geocoder) (2.21.0)\n",
      "Collecting ratelim (from geocoder)\n",
      "  Downloading https://files.pythonhosted.org/packages/f2/98/7e6d147fd16a10a5f821db6e25f192265d6ecca3d82957a4fdd592cad49c/ratelim-0.1.6-py2.py3-none-any.whl\n",
      "Requirement already satisfied: click in /opt/conda/envs/Python36/lib/python3.6/site-packages (from geocoder) (7.0)\n",
      "Requirement already satisfied: future in /opt/conda/envs/Python36/lib/python3.6/site-packages (from geocoder) (0.17.1)\n",
      "Requirement already satisfied: urllib3<1.25,>=1.21.1 in /opt/conda/envs/Python36/lib/python3.6/site-packages (from requests->geocoder) (1.24.1)\n",
      "Requirement already satisfied: idna<2.9,>=2.5 in /opt/conda/envs/Python36/lib/python3.6/site-packages (from requests->geocoder) (2.8)\n",
      "Requirement already satisfied: certifi>=2017.4.17 in /opt/conda/envs/Python36/lib/python3.6/site-packages (from requests->geocoder) (2019.11.28)\n",
      "Requirement already satisfied: chardet<3.1.0,>=3.0.2 in /opt/conda/envs/Python36/lib/python3.6/site-packages (from requests->geocoder) (3.0.4)\n",
      "Requirement already satisfied: decorator in /opt/conda/envs/Python36/lib/python3.6/site-packages (from ratelim->geocoder) (4.3.2)\n",
      "Installing collected packages: ratelim, geocoder\n",
      "Successfully installed geocoder-1.38.1 ratelim-0.1.6\n"
     ]
    }
   ],
   "source": [
    "import sys\n",
    "!{sys.executable} -m pip install geocoder\n",
    "import geocoder"
   ]
  },
  {
   "cell_type": "code",
   "execution_count": 31,
   "metadata": {},
   "outputs": [],
   "source": [
    "import json"
   ]
  },
  {
   "cell_type": "code",
   "execution_count": 33,
   "metadata": {},
   "outputs": [],
   "source": [
    "CLIENT_ID = 'UDSYP4ABRNGJBSIKUJYGV2ZSCD4PHDMIJU41LQDIT0BKVGB4' # your Foursquare ID\n",
    "CLIENT_SECRET = 'GQLIL0EKJRMLT3FL1ARE1DJGQGQ0N2IFWOHZRISI1TCMMMQR' # your Foursquare Secret\n",
    "VERSION = '20180605' # Foursquare API version"
   ]
  },
  {
   "cell_type": "code",
   "execution_count": 35,
   "metadata": {},
   "outputs": [],
   "source": [
    "lat_lng_coords = None\n",
    "while lat_lng_coords == None:\n",
    "        g = geocoder.arcgis('Frisco, Texas')\n",
    "        lat_lng_coords = g.latlng"
   ]
  },
  {
   "cell_type": "code",
   "execution_count": 40,
   "metadata": {},
   "outputs": [
    {
     "name": "stdout",
     "output_type": "stream",
     "text": [
      "[33.15048000000007, -96.83465999999999]\n"
     ]
    }
   ],
   "source": [
    "print(lat_lng_coords)\n",
    "lat = lat_lng_coords[0]\n",
    "lng = lat_lng_coords[1]\n",
    "LOCATION = 'Frisco, TX'"
   ]
  },
  {
   "cell_type": "code",
   "execution_count": 85,
   "metadata": {},
   "outputs": [],
   "source": [
    "import requests\n",
    "url = 'https://api.foursquare.com/v2/venues/explore?&client_id={}&client_secret={}&v={}&query=gas%station&near={}&limit=65'.format(\n",
    "            CLIENT_ID, \n",
    "            CLIENT_SECRET, \n",
    "            VERSION, \n",
    "            LOCATION)"
   ]
  },
  {
   "cell_type": "code",
   "execution_count": 86,
   "metadata": {},
   "outputs": [],
   "source": [
    "# make the GET request\n",
    "results = requests.get(url).json()"
   ]
  },
  {
   "cell_type": "code",
   "execution_count": 87,
   "metadata": {},
   "outputs": [],
   "source": [
    "venues = results['response']['groups'][0]['items']\n",
    "nearby_venues = json_normalize(venues)"
   ]
  },
  {
   "cell_type": "code",
   "execution_count": 88,
   "metadata": {},
   "outputs": [],
   "source": [
    "nearby_venues.head()\n",
    "mygas = nearby_venues[['venue.name', 'venue.location.address', 'venue.location.city','venue.location.lat', 'venue.location.lng']]"
   ]
  },
  {
   "cell_type": "code",
   "execution_count": 89,
   "metadata": {},
   "outputs": [
    {
     "data": {
      "text/html": [
       "<div>\n",
       "<style scoped>\n",
       "    .dataframe tbody tr th:only-of-type {\n",
       "        vertical-align: middle;\n",
       "    }\n",
       "\n",
       "    .dataframe tbody tr th {\n",
       "        vertical-align: top;\n",
       "    }\n",
       "\n",
       "    .dataframe thead th {\n",
       "        text-align: right;\n",
       "    }\n",
       "</style>\n",
       "<table border=\"1\" class=\"dataframe\">\n",
       "  <thead>\n",
       "    <tr style=\"text-align: right;\">\n",
       "      <th></th>\n",
       "      <th>venue.name</th>\n",
       "      <th>venue.location.address</th>\n",
       "      <th>venue.location.city</th>\n",
       "      <th>venue.location.lat</th>\n",
       "      <th>venue.location.lng</th>\n",
       "    </tr>\n",
       "  </thead>\n",
       "  <tbody>\n",
       "    <tr>\n",
       "      <th>0</th>\n",
       "      <td>Costco Gasoline</td>\n",
       "      <td>5700 Eldorado</td>\n",
       "      <td>Frisco</td>\n",
       "      <td>33.174706</td>\n",
       "      <td>-96.836059</td>\n",
       "    </tr>\n",
       "    <tr>\n",
       "      <th>1</th>\n",
       "      <td>RaceTrac</td>\n",
       "      <td>3425 Legacy Drive,</td>\n",
       "      <td>Frisco</td>\n",
       "      <td>33.107297</td>\n",
       "      <td>-96.842362</td>\n",
       "    </tr>\n",
       "    <tr>\n",
       "      <th>2</th>\n",
       "      <td>Kroger Fuel Center</td>\n",
       "      <td>3205 Main St</td>\n",
       "      <td>Frisco</td>\n",
       "      <td>33.152650</td>\n",
       "      <td>-96.863440</td>\n",
       "    </tr>\n",
       "    <tr>\n",
       "      <th>3</th>\n",
       "      <td>QuikTrip</td>\n",
       "      <td>5530 Eldorado Pkwy</td>\n",
       "      <td>Frisco</td>\n",
       "      <td>33.175527</td>\n",
       "      <td>-96.838572</td>\n",
       "    </tr>\n",
       "    <tr>\n",
       "      <th>4</th>\n",
       "      <td>Valero Corner Store</td>\n",
       "      <td>NaN</td>\n",
       "      <td>Frisco</td>\n",
       "      <td>33.106491</td>\n",
       "      <td>-96.816592</td>\n",
       "    </tr>\n",
       "  </tbody>\n",
       "</table>\n",
       "</div>"
      ],
      "text/plain": [
       "            venue.name venue.location.address venue.location.city  \\\n",
       "0      Costco Gasoline          5700 Eldorado              Frisco   \n",
       "1             RaceTrac     3425 Legacy Drive,              Frisco   \n",
       "2   Kroger Fuel Center           3205 Main St              Frisco   \n",
       "3             QuikTrip     5530 Eldorado Pkwy              Frisco   \n",
       "4  Valero Corner Store                    NaN              Frisco   \n",
       "\n",
       "   venue.location.lat  venue.location.lng  \n",
       "0           33.174706          -96.836059  \n",
       "1           33.107297          -96.842362  \n",
       "2           33.152650          -96.863440  \n",
       "3           33.175527          -96.838572  \n",
       "4           33.106491          -96.816592  "
      ]
     },
     "execution_count": 89,
     "metadata": {},
     "output_type": "execute_result"
    }
   ],
   "source": [
    "mygas.head()"
   ]
  },
  {
   "cell_type": "markdown",
   "metadata": {},
   "source": [
    "### Now we have a full data frame of all of the gas stations in Frisco with their locations attatched"
   ]
  },
  {
   "cell_type": "markdown",
   "metadata": {},
   "source": [
    "Now we are going to figure out the location with the least gas stations around it"
   ]
  },
  {
   "cell_type": "code",
   "execution_count": 115,
   "metadata": {},
   "outputs": [],
   "source": [
    "from sklearn.cluster import KMeans\n",
    "from sklearn.cluster import DBSCAN"
   ]
  },
  {
   "cell_type": "code",
   "execution_count": 97,
   "metadata": {},
   "outputs": [
    {
     "data": {
      "image/png": "[encoded data removed]",
      "text/plain": [
       "<Figure size 432x288 with 1 Axes>"
      ]
     },
     "metadata": {
      "needs_background": "light"
     },
     "output_type": "display_data"
    }
   ],
   "source": [
    "plt.scatter(x = 'venue.location.lat', y = 'venue.location.lng', data = mygas)\n",
    "plt.xlabel('Latitude')\n",
    "plt.ylabel('Longitude')\n",
    "plt.show()"
   ]
  },
  {
   "cell_type": "markdown",
   "metadata": {},
   "source": [
    "Graphical representation of the shape of all the gas stations"
   ]
  },
  {
   "cell_type": "code",
   "execution_count": 138,
   "metadata": {},
   "outputs": [],
   "source": [
    "X = mygas[['venue.location.lat', 'venue.location.lng']]\n",
    "X = np.array(X)"
   ]
  },
  {
   "cell_type": "code",
   "execution_count": 139,
   "metadata": {},
   "outputs": [],
   "source": [
    "group = DBSCAN(eps = .01).fit(X)"
   ]
  },
  {
   "cell_type": "code",
   "execution_count": 140,
   "metadata": {},
   "outputs": [
    {
     "data": {
      "text/plain": [
       "array([-1,  3, -1, -1, -1, -1,  3, -1,  1, -1, -1, -1, -1,  0,  1,  0, -1,\n",
       "        1, -1, -1,  2,  1, -1,  2, -1,  2,  2,  2,  0,  0,  1, -1, -1, -1,\n",
       "        0,  3,  3, -1, -1, -1,  2, -1, -1, -1, -1,  3, -1,  1, -1, -1, -1,\n",
       "       -1, -1, -1, -1, -1, -1, -1,  1, -1,  2, -1, -1, -1,  0])"
      ]
     },
     "execution_count": 140,
     "metadata": {},
     "output_type": "execute_result"
    }
   ],
   "source": [
    "group.labels_"
   ]
  },
  {
   "cell_type": "code",
   "execution_count": 128,
   "metadata": {},
   "outputs": [
    {
     "name": "stdout",
     "output_type": "stream",
     "text": [
      "Collecting folium\n",
      "\u001b[?25l  Downloading https://files.pythonhosted.org/packages/fd/a0/ccb3094026649cda4acd55bf2c3822bb8c277eb11446d13d384e5be35257/folium-0.10.1-py2.py3-none-any.whl (91kB)\n",
      "\u001b[K     |████████████████████████████████| 92kB 7.7MB/s eta 0:00:011\n",
      "\u001b[?25hRequirement already satisfied: requests in /opt/conda/envs/Python36/lib/python3.6/site-packages (from folium) (2.21.0)\n",
      "Requirement already satisfied: jinja2>=2.9 in /opt/conda/envs/Python36/lib/python3.6/site-packages (from folium) (2.10)\n",
      "Collecting branca>=0.3.0 (from folium)\n",
      "  Downloading https://files.pythonhosted.org/packages/81/6d/31c83485189a2521a75b4130f1fee5364f772a0375f81afff619004e5237/branca-0.4.0-py3-none-any.whl\n",
      "Requirement already satisfied: numpy in /opt/conda/envs/Python36/lib/python3.6/site-packages (from folium) (1.15.4)\n",
      "Requirement already satisfied: urllib3<1.25,>=1.21.1 in /opt/conda/envs/Python36/lib/python3.6/site-packages (from requests->folium) (1.24.1)\n",
      "Requirement already satisfied: idna<2.9,>=2.5 in /opt/conda/envs/Python36/lib/python3.6/site-packages (from requests->folium) (2.8)\n",
      "Requirement already satisfied: chardet<3.1.0,>=3.0.2 in /opt/conda/envs/Python36/lib/python3.6/site-packages (from requests->folium) (3.0.4)\n",
      "Requirement already satisfied: certifi>=2017.4.17 in /opt/conda/envs/Python36/lib/python3.6/site-packages (from requests->folium) (2019.11.28)\n",
      "Requirement already satisfied: MarkupSafe>=0.23 in /opt/conda/envs/Python36/lib/python3.6/site-packages (from jinja2>=2.9->folium) (1.1.0)\n",
      "Requirement already satisfied: six in /opt/conda/envs/Python36/lib/python3.6/site-packages (from branca>=0.3.0->folium) (1.12.0)\n",
      "Installing collected packages: branca, folium\n",
      "Successfully installed branca-0.4.0 folium-0.10.1\n"
     ]
    }
   ],
   "source": [
    "!{sys.executable} -m pip install folium\n",
    "import folium"
   ]
  },
  {
   "cell_type": "code",
   "execution_count": 142,
   "metadata": {},
   "outputs": [],
   "source": [
    "venue = np.array(mygas['venue.name'])"
   ]
  },
  {
   "cell_type": "code",
   "execution_count": 151,
   "metadata": {},
   "outputs": [],
   "source": [
    "map = folium.Map(location=[33.1507, -96.8236], zoom_start=13)\n",
    "for point in range(len(mygas['venue.name'])):\n",
    "    folium.Marker(X[point], popup = venue[point]).add_to(map)"
   ]
  },
  {
   "cell_type": "code",
   "execution_count": 152,
   "metadata": {},
   "outputs": [
    {
     "data": {
      "text/html": [
       "<div style=\"width:100%;\"><div style=\"position:relative;width:100%;height:0;padding-bottom:60%;\"><iframe src=\"about:blank\" style=\"position:absolute;width:100%;height:100%;left:0;top:0;border:none !important;\" data-html=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 onload=\"this.contentDocument.open();this.contentDocument.write(atob(this.getAttribute('data-html')));this.contentDocument.close();\" allowfullscreen webkitallowfullscreen mozallowfullscreen></iframe></div></div>"
      ],
      "text/plain": [
       "<folium.folium.Map at 0x7fb92f8d7048>"
      ]
     },
     "execution_count": 152,
     "metadata": {},
     "output_type": "execute_result"
    }
   ],
   "source": [
    "map"
   ]
  },
  {
   "cell_type": "markdown",
   "metadata": {},
   "source": [
    "We are able to see all of the gas stations on the map"
   ]
  }
 ],
 "metadata": {
  "kernelspec": {
   "display_name": "Python 3.6",
   "language": "python",
   "name": "python3"
  },
  "language_info": {
   "codemirror_mode": {
    "name": "ipython",
    "version": 3
   },
   "file_extension": ".py",
   "mimetype": "text/x-python",
   "name": "python",
   "nbconvert_exporter": "python",
   "pygments_lexer": "ipython3",
   "version": "3.6.9"
  }
 },
 "nbformat": 4,
 "nbformat_minor": 1
}
